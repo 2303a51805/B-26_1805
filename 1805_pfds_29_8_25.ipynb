{
  "nbformat": 4,
  "nbformat_minor": 0,
  "metadata": {
    "colab": {
      "provenance": [],
      "authorship_tag": "ABX9TyMcB5117Wvz2zAJrLjO0p1b",
      "include_colab_link": true
    },
    "kernelspec": {
      "name": "python3",
      "display_name": "Python 3"
    },
    "language_info": {
      "name": "python"
    }
  },
  "cells": [
    {
      "cell_type": "markdown",
      "metadata": {
        "id": "view-in-github",
        "colab_type": "text"
      },
      "source": [
        "<a href=\"https://colab.research.google.com/github/2303a51805/B-26_1805/blob/main/1805_pfds_29_8_25.ipynb\" target=\"_parent\"><img src=\"https://colab.research.google.com/assets/colab-badge.svg\" alt=\"Open In Colab\"/></a>"
      ]
    },
    {
      "cell_type": "code",
      "execution_count": null,
      "metadata": {
        "colab": {
          "base_uri": "https://localhost:8080/"
        },
        "id": "NNTEV6317v-N",
        "outputId": "66162bb7-bbf5-4449-c946-196f3478ee91"
      },
      "outputs": [
        {
          "output_type": "stream",
          "name": "stdout",
          "text": [
            "pandas Series:\n",
            "0    10\n",
            "1    20\n",
            "2    30\n",
            "3    40\n",
            "4    50\n",
            "dtype: int64\n"
          ]
        }
      ],
      "source": [
        "import pandas as pd\n",
        "data = [10,20,30,40,50]\n",
        "series = pd.Series(data)\n",
        "print(\"pandas Series:\")\n",
        "print(series)"
      ]
    },
    {
      "cell_type": "code",
      "source": [
        "import pandas as pd\n",
        "data = [10,20,30,40,50]\n",
        "index_labels = ['a','b','c','d','e']\n",
        "series = pd.Series(data,index_labels)\n",
        "\n",
        "\n",
        "print(series)"
      ],
      "metadata": {
        "colab": {
          "base_uri": "https://localhost:8080/"
        },
        "id": "BsdI4yPD7zBC",
        "outputId": "e4566fa5-3ed3-450b-fbad-d8b6f46f8f7f"
      },
      "execution_count": null,
      "outputs": [
        {
          "output_type": "stream",
          "name": "stdout",
          "text": [
            "a    10\n",
            "b    20\n",
            "c    30\n",
            "d    40\n",
            "e    50\n",
            "dtype: int64\n"
          ]
        }
      ]
    },
    {
      "cell_type": "code",
      "source": [
        "import pandas as pd\n",
        "data = {\n",
        "    'Name':['Alice','Bob','Charlie'],\n",
        "    'Age':[25,30,35],\n",
        "    'City':['New York','San Francisco','Los Angeles']\n",
        "    }\n",
        "df = pd.DataFrame(data)\n",
        "print(\"Pandas DataFrame;\")\n",
        "print(df)"
      ],
      "metadata": {
        "colab": {
          "base_uri": "https://localhost:8080/"
        },
        "id": "1_yOVCwm7y9f",
        "outputId": "a904321b-619f-4167-b77c-eb6f8c8a4c6b"
      },
      "execution_count": null,
      "outputs": [
        {
          "output_type": "stream",
          "name": "stdout",
          "text": [
            "Pandas DataFrame;\n",
            "      Name  Age           City\n",
            "0    Alice   25       New York\n",
            "1      Bob   30  San Francisco\n",
            "2  Charlie   35    Los Angeles\n"
          ]
        }
      ]
    },
    {
      "cell_type": "code",
      "source": [
        "print(df['Name'])\n",
        "print(df[['Name','city']])\n",
        "print(df.loc[1])\n",
        "print(df.loc[2])\n",
        "df['Salary'] = [40000,50000,60000,70000]\n",
        "print(df)\n",
        "df = df.drop('City',axis=1)\n",
        "print(df)"
      ],
      "metadata": {
        "id": "YanfaxZG7y6-"
      },
      "execution_count": null,
      "outputs": []
    },
    {
      "cell_type": "code",
      "source": [
        "from types import AsyncGeneratorType\n",
        "from collections.abc import AsyncGenerator\n",
        "print(df[df['Age']>30])\n",
        "print(df['Age'].max())\n",
        "print(df['Age'])\n",
        "print(df['Age'].min())"
      ],
      "metadata": {
        "colab": {
          "base_uri": "https://localhost:8080/"
        },
        "id": "4VSy48Pd7y4q",
        "outputId": "71622043-bc27-4c9b-f598-703e20c62d1d"
      },
      "execution_count": null,
      "outputs": [
        {
          "output_type": "stream",
          "name": "stdout",
          "text": [
            "      Name  Age         City\n",
            "2  Charlie   35  Los Angeles\n",
            "35\n",
            "0    25\n",
            "1    30\n",
            "2    35\n",
            "Name: Age, dtype: int64\n",
            "25\n"
          ]
        }
      ]
    },
    {
      "cell_type": "code",
      "source": [
        "import pandas as pd\n",
        "student_data = {\n",
        "    'student_id':[101,102,103,104],\n",
        "    'Name':['Ravi','Neha','Kiran','Sita'],\n",
        "    'Marks':[85,90,78,92],\n",
        "    'Department':['CSE','ECE','MECH','CSE']\n",
        "}\n",
        "df = pd.DataFrame(student_data)\n",
        "print(\"Student Data\")\n",
        "print(df)"
      ],
      "metadata": {
        "colab": {
          "base_uri": "https://localhost:8080/"
        },
        "id": "nWdLnwLwBNq9",
        "outputId": "0bbd919a-ce7c-4b7b-9c09-13121d75d499"
      },
      "execution_count": null,
      "outputs": [
        {
          "output_type": "stream",
          "name": "stdout",
          "text": [
            "Student Data\n",
            "   student_id   Name  Marks Department\n",
            "0         101   Ravi     85        CSE\n",
            "1         102   Neha     90        ECE\n",
            "2         103  Kiran     78       MECH\n",
            "3         104   Sita     92        CSE\n"
          ]
        }
      ]
    },
    {
      "cell_type": "code",
      "source": [
        "import pandas as pd\n",
        "\n",
        "\n",
        "student_data = {\n",
        "    's1_name': ['Ravi', 'Neha', 'Kiran', 'Sneha', 'Arjun'],\n",
        "    's1_roll_no': [101, 102, 103, 104, 105],\n",
        "    'm1': [78, 56, 90, 45, 88],\n",
        "    'm2': [88, 76, 85, 67, 92],\n",
        "    'm3': [92, 66, 70, 80, 75]\n",
        "}\n",
        "\n",
        "\n",
        "df = pd.DataFrame(student_data)\n",
        "\n",
        "\n",
        "df['total'] = df[['m1', 'm2', 'm3']].sum(axis=1)\n",
        "df['average'] = df[['m1', 'm2', 'm3']].mean(axis=1)\n",
        "\n",
        "\n",
        "df['result'] = df.apply(lambda row: 'Pass' if (row['m1'] >= 40 and row['m2'] >= 40 and row['m3'] >= 40) else 'Fail', axis=1)\n",
        "\n",
        "\n",
        "print(\"Student Data\")\n",
        "print(df)"
      ],
      "metadata": {
        "id": "Lj2Z0u2SBNn-",
        "colab": {
          "base_uri": "https://localhost:8080/"
        },
        "outputId": "28f0593d-4d8f-41db-f5e5-3f8c30eeb436"
      },
      "execution_count": 2,
      "outputs": [
        {
          "output_type": "stream",
          "name": "stdout",
          "text": [
            "Student Data\n",
            "  s1_name  s1_roll_no  m1  m2  m3  total    average result\n",
            "0    Ravi         101  78  88  92    258  86.000000   Pass\n",
            "1    Neha         102  56  76  66    198  66.000000   Pass\n",
            "2   Kiran         103  90  85  70    245  81.666667   Pass\n",
            "3   Sneha         104  45  67  80    192  64.000000   Pass\n",
            "4   Arjun         105  88  92  75    255  85.000000   Pass\n"
          ]
        }
      ]
    },
    {
      "cell_type": "code",
      "source": [],
      "metadata": {
        "id": "63XOgNYICoCX"
      },
      "execution_count": null,
      "outputs": []
    },
    {
      "cell_type": "code",
      "source": [],
      "metadata": {
        "id": "zI-3zv1_Cn-y"
      },
      "execution_count": null,
      "outputs": []
    }
  ]
}